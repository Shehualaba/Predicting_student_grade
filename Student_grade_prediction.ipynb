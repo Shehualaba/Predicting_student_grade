{
 "cells": [
  {
   "cell_type": "markdown",
   "id": "2867175e",
   "metadata": {},
   "source": [
    "# Shehu Alaba Rasheed\n",
    "## Data science intern @ The Sparks Foundation"
   ]
  },
  {
   "cell_type": "markdown",
   "id": "bb91ec06",
   "metadata": {},
   "source": [
    "# The Sparks Foundation Internship\n",
    "\n",
    "## Task 1"
   ]
  },
  {
   "cell_type": "markdown",
   "id": "8f0be2f0",
   "metadata": {},
   "source": [
    "# Prediction Using Supervised ML\n",
    "\n",
    "## Simple Regression Task\n",
    "\n",
    "\n",
    "**This task involves creating a machine learning model that can predict percentage score of a student based on the numbers of hours used to study**  \n",
    "[Data source](http://bit.ly/w-data)\n",
    "\n",
    "Data Description\n",
    "\n",
    "Hours- numbers of hours student studied for\n",
    "Scores- percentage score of student"
   ]
  },
  {
   "cell_type": "markdown",
   "id": "b1a20f77",
   "metadata": {},
   "source": [
    "### Import Relevant Libraries"
   ]
  },
  {
   "cell_type": "code",
   "execution_count": 1,
   "id": "88ed89b1",
   "metadata": {},
   "outputs": [],
   "source": [
    "import pandas as pd\n",
    "import matplotlib.pyplot as plt\n",
    "from sklearn.metrics import mean_squared_error\n",
    "import numpy as np\n",
    "from sklearn.linear_model import LinearRegression\n",
    "from sklearn.model_selection import train_test_split\n",
    "import seaborn as sns\n",
    "import matplotlib.pyplot as plt\n",
    "sns.set(palette='colorblind')"
   ]
  },
  {
   "cell_type": "code",
   "execution_count": 3,
   "id": "f3f89ad9",
   "metadata": {},
   "outputs": [
    {
     "data": {
      "text/html": [
       "<div>\n",
       "<style scoped>\n",
       "    .dataframe tbody tr th:only-of-type {\n",
       "        vertical-align: middle;\n",
       "    }\n",
       "\n",
       "    .dataframe tbody tr th {\n",
       "        vertical-align: top;\n",
       "    }\n",
       "\n",
       "    .dataframe thead th {\n",
       "        text-align: right;\n",
       "    }\n",
       "</style>\n",
       "<table border=\"1\" class=\"dataframe\">\n",
       "  <thead>\n",
       "    <tr style=\"text-align: right;\">\n",
       "      <th></th>\n",
       "      <th>Hours</th>\n",
       "      <th>Scores</th>\n",
       "    </tr>\n",
       "  </thead>\n",
       "  <tbody>\n",
       "    <tr>\n",
       "      <th>0</th>\n",
       "      <td>2.5</td>\n",
       "      <td>21</td>\n",
       "    </tr>\n",
       "    <tr>\n",
       "      <th>1</th>\n",
       "      <td>5.1</td>\n",
       "      <td>47</td>\n",
       "    </tr>\n",
       "    <tr>\n",
       "      <th>2</th>\n",
       "      <td>3.2</td>\n",
       "      <td>27</td>\n",
       "    </tr>\n",
       "    <tr>\n",
       "      <th>3</th>\n",
       "      <td>8.5</td>\n",
       "      <td>75</td>\n",
       "    </tr>\n",
       "    <tr>\n",
       "      <th>4</th>\n",
       "      <td>3.5</td>\n",
       "      <td>30</td>\n",
       "    </tr>\n",
       "  </tbody>\n",
       "</table>\n",
       "</div>"
      ],
      "text/plain": [
       "   Hours  Scores\n",
       "0    2.5      21\n",
       "1    5.1      47\n",
       "2    3.2      27\n",
       "3    8.5      75\n",
       "4    3.5      30"
      ]
     },
     "execution_count": 3,
     "metadata": {},
     "output_type": "execute_result"
    }
   ],
   "source": [
    "data = pd.read_csv('http://bit.ly/w-data')\n",
    "data.head()"
   ]
  },
  {
   "cell_type": "markdown",
   "id": "cc839c94",
   "metadata": {},
   "source": [
    "### Split the dataset into train and test set\n",
    "* **The data has to be splited before anything is done on it, because us seeing all data before spliting it introduces data snooping bias**"
   ]
  },
  {
   "cell_type": "code",
   "execution_count": 5,
   "id": "a6a330a0",
   "metadata": {},
   "outputs": [],
   "source": [
    "train_set, test_set = train_test_split(data, test_size=0.2, shuffle=True, random_state=123)"
   ]
  },
  {
   "cell_type": "code",
   "execution_count": 9,
   "id": "4b1e6c69",
   "metadata": {},
   "outputs": [],
   "source": [
    "data1 = train_set.copy()"
   ]
  },
  {
   "cell_type": "code",
   "execution_count": 7,
   "id": "96cedb5a",
   "metadata": {},
   "outputs": [
    {
     "data": {
      "image/png": "[encoded data removed]",
      "text/plain": [
       "<Figure size 432x288 with 2 Axes>"
      ]
     },
     "metadata": {
      "needs_background": "light"
     },
     "output_type": "display_data"
    }
   ],
   "source": [
    "sns.heatmap(data1.corr(), annot=True)\n",
    "plt.title('Correlation plot');"
   ]
  },
  {
   "cell_type": "markdown",
   "id": "5fbfd4b7",
   "metadata": {},
   "source": [
    "**NOte**\n",
    "* The number of hours is highly positively correlated with Scores; i.e as hours of study increases the Score increases"
   ]
  },
  {
   "cell_type": "code",
   "execution_count": 13,
   "id": "1ba9e3b3",
   "metadata": {},
   "outputs": [
    {
     "data": {
      "image/png": "[encoded data removed]",
      "text/plain": [
       "<Figure size 432x288 with 1 Axes>"
      ]
     },
     "metadata": {
      "needs_background": "light"
     },
     "output_type": "display_data"
    }
   ],
   "source": [
    "sns.regplot(data=data1, x='Hours', y='Scores')\n",
    "plt.title('Regression Plot');"
   ]
  },
  {
   "cell_type": "code",
   "execution_count": 10,
   "id": "fc045bcd",
   "metadata": {},
   "outputs": [
    {
     "data": {
      "image/png": "[encoded data removed]",
      "text/plain": [
       "<Figure size 432x288 with 1 Axes>"
      ]
     },
     "metadata": {
      "needs_background": "light"
     },
     "output_type": "display_data"
    }
   ],
   "source": [
    "# Checking the distribution of score\n",
    "sns.histplot(data=data1, x='Scores')\n",
    "plt.title('Distribution of SCore');"
   ]
  },
  {
   "cell_type": "markdown",
   "id": "6c71710b",
   "metadata": {},
   "source": [
    "**Note**\n",
    "* The data is almost uniform distributed"
   ]
  },
  {
   "cell_type": "code",
   "execution_count": 12,
   "id": "80422ada",
   "metadata": {},
   "outputs": [
    {
     "data": {
      "image/png": "[encoded data removed]",
      "text/plain": [
       "<Figure size 360x360 with 1 Axes>"
      ]
     },
     "metadata": {
      "needs_background": "light"
     },
     "output_type": "display_data"
    }
   ],
   "source": [
    "# Checking the distribution of Hours\n",
    "sns.displot(data=data1, x='Hours')\n",
    "plt.show();"
   ]
  },
  {
   "cell_type": "markdown",
   "id": "94681e6f",
   "metadata": {},
   "source": [
    "**Most student study below 4 hours**"
   ]
  },
  {
   "cell_type": "markdown",
   "id": "b9c601ad",
   "metadata": {},
   "source": [
    "**Split data into X(independent Variable) and y(dependent Variable)**"
   ]
  },
  {
   "cell_type": "code",
   "execution_count": 14,
   "id": "6c3c24b9",
   "metadata": {},
   "outputs": [],
   "source": [
    "X = data1.loc[:,['Hours']]\n",
    "y = data1.loc[:,['Scores']]"
   ]
  },
  {
   "cell_type": "markdown",
   "id": "f5b33e3b",
   "metadata": {},
   "source": [
    "# Model fitting"
   ]
  },
  {
   "cell_type": "code",
   "execution_count": 15,
   "id": "37409db1",
   "metadata": {},
   "outputs": [
    {
     "data": {
      "text/html": [
       "<style>#sk-container-id-1 {color: black;background-color: white;}#sk-container-id-1 pre{padding: 0;}#sk-container-id-1 div.sk-toggleable {background-color: white;}#sk-container-id-1 label.sk-toggleable__label {cursor: pointer;display: block;width: 100%;margin-bottom: 0;padding: 0.3em;box-sizing: border-box;text-align: center;}#sk-container-id-1 label.sk-toggleable__label-arrow:before {content: \"▸\";float: left;margin-right: 0.25em;color: #696969;}#sk-container-id-1 label.sk-toggleable__label-arrow:hover:before {color: black;}#sk-container-id-1 div.sk-estimator:hover label.sk-toggleable__label-arrow:before {color: black;}#sk-container-id-1 div.sk-toggleable__content {max-height: 0;max-width: 0;overflow: hidden;text-align: left;background-color: #f0f8ff;}#sk-container-id-1 div.sk-toggleable__content pre {margin: 0.2em;color: black;border-radius: 0.25em;background-color: #f0f8ff;}#sk-container-id-1 input.sk-toggleable__control:checked~div.sk-toggleable__content {max-height: 200px;max-width: 100%;overflow: auto;}#sk-container-id-1 input.sk-toggleable__control:checked~label.sk-toggleable__label-arrow:before {content: \"▾\";}#sk-container-id-1 div.sk-estimator input.sk-toggleable__control:checked~label.sk-toggleable__label {background-color: #d4ebff;}#sk-container-id-1 div.sk-label input.sk-toggleable__control:checked~label.sk-toggleable__label {background-color: #d4ebff;}#sk-container-id-1 input.sk-hidden--visually {border: 0;clip: rect(1px 1px 1px 1px);clip: rect(1px, 1px, 1px, 1px);height: 1px;margin: -1px;overflow: hidden;padding: 0;position: absolute;width: 1px;}#sk-container-id-1 div.sk-estimator {font-family: monospace;background-color: #f0f8ff;border: 1px dotted black;border-radius: 0.25em;box-sizing: border-box;margin-bottom: 0.5em;}#sk-container-id-1 div.sk-estimator:hover {background-color: #d4ebff;}#sk-container-id-1 div.sk-parallel-item::after {content: \"\";width: 100%;border-bottom: 1px solid gray;flex-grow: 1;}#sk-container-id-1 div.sk-label:hover label.sk-toggleable__label {background-color: #d4ebff;}#sk-container-id-1 div.sk-serial::before {content: \"\";position: absolute;border-left: 1px solid gray;box-sizing: border-box;top: 0;bottom: 0;left: 50%;z-index: 0;}#sk-container-id-1 div.sk-serial {display: flex;flex-direction: column;align-items: center;background-color: white;padding-right: 0.2em;padding-left: 0.2em;position: relative;}#sk-container-id-1 div.sk-item {position: relative;z-index: 1;}#sk-container-id-1 div.sk-parallel {display: flex;align-items: stretch;justify-content: center;background-color: white;position: relative;}#sk-container-id-1 div.sk-item::before, #sk-container-id-1 div.sk-parallel-item::before {content: \"\";position: absolute;border-left: 1px solid gray;box-sizing: border-box;top: 0;bottom: 0;left: 50%;z-index: -1;}#sk-container-id-1 div.sk-parallel-item {display: flex;flex-direction: column;z-index: 1;position: relative;background-color: white;}#sk-container-id-1 div.sk-parallel-item:first-child::after {align-self: flex-end;width: 50%;}#sk-container-id-1 div.sk-parallel-item:last-child::after {align-self: flex-start;width: 50%;}#sk-container-id-1 div.sk-parallel-item:only-child::after {width: 0;}#sk-container-id-1 div.sk-dashed-wrapped {border: 1px dashed gray;margin: 0 0.4em 0.5em 0.4em;box-sizing: border-box;padding-bottom: 0.4em;background-color: white;}#sk-container-id-1 div.sk-label label {font-family: monospace;font-weight: bold;display: inline-block;line-height: 1.2em;}#sk-container-id-1 div.sk-label-container {text-align: center;}#sk-container-id-1 div.sk-container {/* jupyter's `normalize.less` sets `[hidden] { display: none; }` but bootstrap.min.css set `[hidden] { display: none !important; }` so we also need the `!important` here to be able to override the default hidden behavior on the sphinx rendered scikit-learn.org. See: https://github.com/scikit-learn/scikit-learn/issues/21755 */display: inline-block !important;position: relative;}#sk-container-id-1 div.sk-text-repr-fallback {display: none;}</style><div id=\"sk-container-id-1\" class=\"sk-top-container\"><div class=\"sk-text-repr-fallback\"><pre>LinearRegression()</pre><b>In a Jupyter environment, please rerun this cell to show the HTML representation or trust the notebook. <br />On GitHub, the HTML representation is unable to render, please try loading this page with nbviewer.org.</b></div><div class=\"sk-container\" hidden><div class=\"sk-item\"><div class=\"sk-estimator sk-toggleable\"><input class=\"sk-toggleable__control sk-hidden--visually\" id=\"sk-estimator-id-1\" type=\"checkbox\" checked><label for=\"sk-estimator-id-1\" class=\"sk-toggleable__label sk-toggleable__label-arrow\">LinearRegression</label><div class=\"sk-toggleable__content\"><pre>LinearRegression()</pre></div></div></div></div></div>"
      ],
      "text/plain": [
       "LinearRegression()"
      ]
     },
     "execution_count": 15,
     "metadata": {},
     "output_type": "execute_result"
    }
   ],
   "source": [
    "# Instantiate LinearRegression as model\n",
    "model = LinearRegression()\n",
    "model.fit(X, y)"
   ]
  },
  {
   "cell_type": "code",
   "execution_count": 16,
   "id": "90d48928",
   "metadata": {},
   "outputs": [
    {
     "name": "stdout",
     "output_type": "stream",
     "text": [
      "The train set root_mean_squared_error is 5.5\n"
     ]
    }
   ],
   "source": [
    "train_prediction = model.predict(X)\n",
    "rmse_score = round(mean_squared_error(y, train_prediction) ** 0.5, 2)\n",
    "print(f'The train set root_mean_squared_error is {rmse_score}')"
   ]
  },
  {
   "cell_type": "markdown",
   "id": "b0d44e01",
   "metadata": {},
   "source": [
    "# Model Evaluation"
   ]
  },
  {
   "cell_type": "code",
   "execution_count": 17,
   "id": "30c4af8c",
   "metadata": {},
   "outputs": [],
   "source": [
    "X_test = test_set.iloc[:, [0]]\n",
    "y_test = test_set.iloc[:, [1]]"
   ]
  },
  {
   "cell_type": "code",
   "execution_count": 18,
   "id": "6a05ecd1",
   "metadata": {},
   "outputs": [
    {
     "name": "stdout",
     "output_type": "stream",
     "text": [
      "The model root_mean_squared_error is 5.155850704673393\n"
     ]
    }
   ],
   "source": [
    "test_pred = model.predict(X_test)\n",
    "test_rmse = mean_squared_error(y_test, test_pred) ** 0.5\n",
    "print(f'The model root_mean_squared_error is {test_rmse}')"
   ]
  },
  {
   "cell_type": "markdown",
   "id": "3dfc980d",
   "metadata": {},
   "source": [
    "**Note**\n",
    "* The test set had a lower root_mean_squared_error of 5.16, hence the model didn't over fit\n",
    "* The rmse_score of 5.16 means the predicted score is off the actual score by 5.16 on average"
   ]
  },
  {
   "cell_type": "markdown",
   "id": "1a786f4c",
   "metadata": {},
   "source": [
    "**New prediction**\n",
    "* What will be the predicted score if a student study for 9.25hours/day"
   ]
  },
  {
   "cell_type": "code",
   "execution_count": 19,
   "id": "f499c4fe",
   "metadata": {},
   "outputs": [
    {
     "data": {
      "text/html": [
       "<div>\n",
       "<style scoped>\n",
       "    .dataframe tbody tr th:only-of-type {\n",
       "        vertical-align: middle;\n",
       "    }\n",
       "\n",
       "    .dataframe tbody tr th {\n",
       "        vertical-align: top;\n",
       "    }\n",
       "\n",
       "    .dataframe thead th {\n",
       "        text-align: right;\n",
       "    }\n",
       "</style>\n",
       "<table border=\"1\" class=\"dataframe\">\n",
       "  <thead>\n",
       "    <tr style=\"text-align: right;\">\n",
       "      <th></th>\n",
       "      <th>Hours</th>\n",
       "      <th>Scores</th>\n",
       "    </tr>\n",
       "  </thead>\n",
       "  <tbody>\n",
       "    <tr>\n",
       "      <th>0</th>\n",
       "      <td>9.25</td>\n",
       "      <td>91.511288</td>\n",
       "    </tr>\n",
       "  </tbody>\n",
       "</table>\n",
       "</div>"
      ],
      "text/plain": [
       "   Hours     Scores\n",
       "0   9.25  91.511288"
      ]
     },
     "execution_count": 19,
     "metadata": {},
     "output_type": "execute_result"
    }
   ],
   "source": [
    "new_data = pd.DataFrame()\n",
    "new_data['Hours'] = [9.25]\n",
    "new_pred = model.predict(new_data)\n",
    "new_data['Scores'] = new_pred\n",
    "new_data"
   ]
  },
  {
   "cell_type": "markdown",
   "id": "5df03489",
   "metadata": {},
   "source": [
    "# Prediction for 9.25hours/day\n",
    "\n",
    "* If a student read for 9.25hours/ day, he will have 91.51 score"
   ]
  },
  {
   "cell_type": "code",
   "execution_count": null,
   "id": "54793194",
   "metadata": {},
   "outputs": [],
   "source": []
  }
 ],
 "metadata": {
  "kernelspec": {
   "display_name": "Python 3 (ipykernel)",
   "language": "python",
   "name": "python3"
  },
  "language_info": {
   "codemirror_mode": {
    "name": "ipython",
    "version": 3
   },
   "file_extension": ".py",
   "mimetype": "text/x-python",
   "name": "python",
   "nbconvert_exporter": "python",
   "pygments_lexer": "ipython3",
   "version": "3.10.8"
  }
 },
 "nbformat": 4,
 "nbformat_minor": 5
}
